{
 "cells": [
  {
   "cell_type": "code",
   "execution_count": 7,
   "metadata": {},
   "outputs": [
    {
     "name": "stdout",
     "output_type": "stream",
     "text": [
      "[[29 95]\n",
      " [77 18]\n",
      " [96 75]\n",
      " [ 3 85]\n",
      " [19 50]\n",
      " [62 52]\n",
      " [26 22]\n",
      " [51 16]\n",
      " [92 87]\n",
      " [39 91]]\n"
     ]
    }
   ],
   "source": [
    "import numpy as np\n",
    "\n",
    "# Fixing random state for reproducibility\n",
    "np.random.seed(1968001)\n",
    "\n",
    "cities = 10\n",
    "length = 100\n",
    "\n",
    "a = np.random.randint(length, size=(cities, 2))\n",
    "print(a)\n"
   ]
  },
  {
   "cell_type": "code",
   "execution_count": null,
   "metadata": {},
   "outputs": [],
   "source": [
    "# wykres\n",
    "import matplotlib.pyplot as plt\n",
    "\n",
    "plt.figure()\n",
    "# Scatter plot on top of lines\n",
    "plt.subplot(212)\n",
    "plt.plot(x, y, 'C3', zorder=1, lw=3)\n",
    "plt.scatter(x, y, s=120, zorder=2)\n",
    "plt.title('Dots on top of lines')\n",
    "plt.tight_layout()\n",
    "plt.savefig(\"test.png\")"
   ]
  }
 ],
 "metadata": {
  "kernelspec": {
   "display_name": "Python 3",
   "language": "python",
   "name": "python3"
  },
  "language_info": {
   "codemirror_mode": {
    "name": "ipython",
    "version": 3
   },
   "file_extension": ".py",
   "mimetype": "text/x-python",
   "name": "python",
   "nbconvert_exporter": "python",
   "pygments_lexer": "ipython3",
   "version": "3.6.7"
  }
 },
 "nbformat": 4,
 "nbformat_minor": 2
}

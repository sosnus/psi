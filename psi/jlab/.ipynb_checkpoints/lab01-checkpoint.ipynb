{
 "cells": [
  {
   "cell_type": "code",
   "execution_count": 33,
   "metadata": {},
   "outputs": [
    {
     "name": "stdout",
     "output_type": "stream",
     "text": [
      "[[29 95]\n",
      " [77 18]\n",
      " [96 75]\n",
      " [ 3 85]\n",
      " [19 50]]\n"
     ]
    }
   ],
   "source": [
    "import numpy as np\n",
    "\n",
    "# Fixing random state for reproducibility\n",
    "np.random.seed(1968001)\n",
    "\n",
    "cities = 5\n",
    "length = 100\n",
    "\n",
    "A = np.random.randint(length, size=(cities, 2))\n",
    "print(A)"
   ]
  },
  {
   "cell_type": "code",
   "execution_count": 34,
   "metadata": {},
   "outputs": [
    {
     "data": {
      "image/png": "[encoded data removed]",
      "text/plain": [
       "<Figure size 432x288 with 1 Axes>"
      ]
     },
     "metadata": {
      "needs_background": "light"
     },
     "output_type": "display_data"
    }
   ],
   "source": [
    "# wykres\n",
    "import matplotlib.pyplot as plt\n",
    "\n",
    "plt.figure()\n",
    "# Scatter plot on top of lines\n",
    "plt.subplot(111)\n",
    "#plt.plot(a[:,0], a[:,1], 'C3', zorder=1, lw=3)\n",
    "plt.scatter(A[:,0], A[:,1], s=120, zorder=2)\n",
    "plt.title('CITIES')\n",
    "plt.tight_layout()\n",
    "plt.savefig(\"test.png\")"
   ]
  },
  {
   "cell_type": "code",
   "execution_count": 35,
   "metadata": {},
   "outputs": [
    {
     "name": "stdout",
     "output_type": "stream",
     "text": [
      "[[0 0 0 0 0]\n",
      " [0 0 0 0 0]\n",
      " [0 0 0 0 0]\n",
      " [0 0 0 0 0]\n",
      " [0 0 0 0 0]]\n"
     ]
    }
   ],
   "source": [
    "B = np.random.randint(1, size=(cities, cities))\n",
    "print(b)"
   ]
  },
  {
   "cell_type": "code",
   "execution_count": 37,
   "metadata": {},
   "outputs": [
    {
     "name": "stdout",
     "output_type": "stream",
     "text": [
      "0 =[ 29 95 ] 0 =[ 29 95 ]\n",
      "0 =[ 29 95 ] 1 =[ 77 18 ]\n",
      "0 =[ 29 95 ] 2 =[ 96 75 ]\n",
      "0 =[ 29 95 ] 3 =[ 3 85 ]\n",
      "0 =[ 29 95 ] 4 =[ 19 50 ]\n",
      "1 =[ 77 18 ] 0 =[ 29 95 ]\n",
      "1 =[ 77 18 ] 1 =[ 77 18 ]\n",
      "1 =[ 77 18 ] 2 =[ 96 75 ]\n",
      "1 =[ 77 18 ] 3 =[ 3 85 ]\n",
      "1 =[ 77 18 ] 4 =[ 19 50 ]\n",
      "2 =[ 96 75 ] 0 =[ 29 95 ]\n",
      "2 =[ 96 75 ] 1 =[ 77 18 ]\n",
      "2 =[ 96 75 ] 2 =[ 96 75 ]\n",
      "2 =[ 96 75 ] 3 =[ 3 85 ]\n",
      "2 =[ 96 75 ] 4 =[ 19 50 ]\n",
      "3 =[ 3 85 ] 0 =[ 29 95 ]\n",
      "3 =[ 3 85 ] 1 =[ 77 18 ]\n",
      "3 =[ 3 85 ] 2 =[ 96 75 ]\n",
      "3 =[ 3 85 ] 3 =[ 3 85 ]\n",
      "3 =[ 3 85 ] 4 =[ 19 50 ]\n",
      "4 =[ 19 50 ] 0 =[ 29 95 ]\n",
      "4 =[ 19 50 ] 1 =[ 77 18 ]\n",
      "4 =[ 19 50 ] 2 =[ 96 75 ]\n",
      "4 =[ 19 50 ] 3 =[ 3 85 ]\n",
      "4 =[ 19 50 ] 4 =[ 19 50 ]\n"
     ]
    }
   ],
   "source": [
    "for i in range(cities):\n",
    "    for j in range(cities):\n",
    "        print(i,\"=[\", A[i,0],A[i,1],\"]\", j,\"=[\", A[j,0],A[j,1],\"]\")\n",
    "        print(\"len: \", i, \"-\", j, \"  = odl\")"
   ]
  },
  {
   "cell_type": "code",
   "execution_count": null,
   "metadata": {},
   "outputs": [],
   "source": []
  }
 ],
 "metadata": {
  "kernelspec": {
   "display_name": "Python 3",
   "language": "python",
   "name": "python3"
  },
  "language_info": {
   "codemirror_mode": {
    "name": "ipython",
    "version": 3
   },
   "file_extension": ".py",
   "mimetype": "text/x-python",
   "name": "python",
   "nbconvert_exporter": "python",
   "pygments_lexer": "ipython3",
   "version": "3.6.7"
  }
 },
 "nbformat": 4,
 "nbformat_minor": 2
}

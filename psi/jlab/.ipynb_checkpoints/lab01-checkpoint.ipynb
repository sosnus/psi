{
 "cells": [
  {
   "cell_type": "code",
   "execution_count": 82,
   "metadata": {},
   "outputs": [
    {
     "name": "stdout",
     "output_type": "stream",
     "text": [
      "[[29 95]\n",
      " [77 18]\n",
      " [96 75]\n",
      " [ 3 85]\n",
      " [19 50]\n",
      " [62 52]]\n"
     ]
    }
   ],
   "source": [
    "import math\n",
    "import numpy as np\n",
    "\n",
    "\n",
    "### SETTINGS ###\n",
    "np.random.seed(1968001) # Fixing random state for reproducibility\n",
    "cities = 6 # how many cities\n",
    "length = 100 # area where we have cities (map size)\n",
    "roundCnt = 2 # round \n",
    "\n",
    "A = np.random.randint(length, size=(cities, 2)) #generate cities\n",
    "print(A)"
   ]
  },
  {
   "cell_type": "code",
   "execution_count": 83,
   "metadata": {},
   "outputs": [
    {
     "data": {
      "image/png": "[encoded data removed]",
      "text/plain": [
       "<Figure size 432x288 with 1 Axes>"
      ]
     },
     "metadata": {
      "needs_background": "light"
     },
     "output_type": "display_data"
    }
   ],
   "source": [
    "# wykres\n",
    "import matplotlib.pyplot as plt\n",
    "\n",
    "plt.figure()\n",
    "# Scatter plot on top of lines\n",
    "plt.subplot(111)\n",
    "#plt.plot(a[:,0], a[:,1], 'C3', zorder=1, lw=3)\n",
    "plt.scatter(A[:,0], A[:,1], s=120, zorder=2)\n",
    "plt.title('CITIES')\n",
    "plt.tight_layout()\n",
    "plt.savefig(\"test.png\")"
   ]
  },
  {
   "cell_type": "code",
   "execution_count": 84,
   "metadata": {},
   "outputs": [
    {
     "name": "stdout",
     "output_type": "stream",
     "text": [
      "[[0. 0. 0. 0. 0. 0.]\n",
      " [0. 0. 0. 0. 0. 0.]\n",
      " [0. 0. 0. 0. 0. 0.]\n",
      " [0. 0. 0. 0. 0. 0.]\n",
      " [0. 0. 0. 0. 0. 0.]\n",
      " [0. 0. 0. 0. 0. 0.]]\n"
     ]
    }
   ],
   "source": [
    "B = np.zeros((cities, cities))\n",
    "print(B)"
   ]
  },
  {
   "cell_type": "code",
   "execution_count": 85,
   "metadata": {},
   "outputs": [
    {
     "name": "stdout",
     "output_type": "stream",
     "text": [
      "0 =[ 29 95 ] 0 =[ 29 95 ]\tlen: A 0 - A 0   =  0.0\n",
      "0 =[ 29 95 ] 1 =[ 77 18 ]\tlen: A 0 - A 1   =  90.74\n",
      "0 =[ 29 95 ] 2 =[ 96 75 ]\tlen: A 0 - A 2   =  69.92\n",
      "0 =[ 29 95 ] 3 =[ 3 85 ]\tlen: A 0 - A 3   =  27.86\n",
      "0 =[ 29 95 ] 4 =[ 19 50 ]\tlen: A 0 - A 4   =  46.1\n",
      "0 =[ 29 95 ] 5 =[ 62 52 ]\tlen: A 0 - A 5   =  54.2\n",
      "1 =[ 77 18 ] 0 =[ 29 95 ]\tlen: A 1 - A 0   =  90.74\n",
      "1 =[ 77 18 ] 1 =[ 77 18 ]\tlen: A 1 - A 1   =  0.0\n",
      "1 =[ 77 18 ] 2 =[ 96 75 ]\tlen: A 1 - A 2   =  60.08\n",
      "1 =[ 77 18 ] 3 =[ 3 85 ]\tlen: A 1 - A 3   =  99.82\n",
      "1 =[ 77 18 ] 4 =[ 19 50 ]\tlen: A 1 - A 4   =  66.24\n",
      "1 =[ 77 18 ] 5 =[ 62 52 ]\tlen: A 1 - A 5   =  37.16\n",
      "2 =[ 96 75 ] 0 =[ 29 95 ]\tlen: A 2 - A 0   =  69.92\n",
      "2 =[ 96 75 ] 1 =[ 77 18 ]\tlen: A 2 - A 1   =  60.08\n",
      "2 =[ 96 75 ] 2 =[ 96 75 ]\tlen: A 2 - A 2   =  0.0\n",
      "2 =[ 96 75 ] 3 =[ 3 85 ]\tlen: A 2 - A 3   =  93.54\n",
      "2 =[ 96 75 ] 4 =[ 19 50 ]\tlen: A 2 - A 4   =  80.96\n",
      "2 =[ 96 75 ] 5 =[ 62 52 ]\tlen: A 2 - A 5   =  41.05\n",
      "3 =[ 3 85 ] 0 =[ 29 95 ]\tlen: A 3 - A 0   =  27.86\n",
      "3 =[ 3 85 ] 1 =[ 77 18 ]\tlen: A 3 - A 1   =  99.82\n",
      "3 =[ 3 85 ] 2 =[ 96 75 ]\tlen: A 3 - A 2   =  93.54\n",
      "3 =[ 3 85 ] 3 =[ 3 85 ]\tlen: A 3 - A 3   =  0.0\n",
      "3 =[ 3 85 ] 4 =[ 19 50 ]\tlen: A 3 - A 4   =  38.48\n",
      "3 =[ 3 85 ] 5 =[ 62 52 ]\tlen: A 3 - A 5   =  67.6\n",
      "4 =[ 19 50 ] 0 =[ 29 95 ]\tlen: A 4 - A 0   =  46.1\n",
      "4 =[ 19 50 ] 1 =[ 77 18 ]\tlen: A 4 - A 1   =  66.24\n",
      "4 =[ 19 50 ] 2 =[ 96 75 ]\tlen: A 4 - A 2   =  80.96\n",
      "4 =[ 19 50 ] 3 =[ 3 85 ]\tlen: A 4 - A 3   =  38.48\n",
      "4 =[ 19 50 ] 4 =[ 19 50 ]\tlen: A 4 - A 4   =  0.0\n",
      "4 =[ 19 50 ] 5 =[ 62 52 ]\tlen: A 4 - A 5   =  43.05\n",
      "5 =[ 62 52 ] 0 =[ 29 95 ]\tlen: A 5 - A 0   =  54.2\n",
      "5 =[ 62 52 ] 1 =[ 77 18 ]\tlen: A 5 - A 1   =  37.16\n",
      "5 =[ 62 52 ] 2 =[ 96 75 ]\tlen: A 5 - A 2   =  41.05\n",
      "5 =[ 62 52 ] 3 =[ 3 85 ]\tlen: A 5 - A 3   =  67.6\n",
      "5 =[ 62 52 ] 4 =[ 19 50 ]\tlen: A 5 - A 4   =  43.05\n",
      "5 =[ 62 52 ] 5 =[ 62 52 ]\tlen: A 5 - A 5   =  0.0\n",
      "[[ 0.   90.74 69.92 27.86 46.1  54.2 ]\n",
      " [90.74  0.   60.08 99.82 66.24 37.16]\n",
      " [69.92 60.08  0.   93.54 80.96 41.05]\n",
      " [27.86 99.82 93.54  0.   38.48 67.6 ]\n",
      " [46.1  66.24 80.96 38.48  0.   43.05]\n",
      " [54.2  37.16 41.05 67.6  43.05  0.  ]]\n"
     ]
    }
   ],
   "source": [
    "# odleglosc miedzy punktami:\n",
    "# d^2 = (x2-x1)^2+(y2-y1)^2\n",
    "\n",
    "for i in range(cities):\n",
    "    for j in range(cities):\n",
    "        print(i,\"=[\", A[i,0],A[i,1],\"]\", j,\"=[\", A[j,0],A[j,1],\"]\", end=\"\\t\")\n",
    "        dpow2 = math.pow((A[j,0]-A[i,0]),2)+math.pow((A[j,1]-A[i,1]),2)\n",
    "        B[i,j] = round(math.sqrt(dpow2),roundCnt)\n",
    "       # print(dpow2, round(math.sqrt(dpow2),roundCnt))\n",
    "        print(\"len: A\", i, \"- A\", j, \"  = \", B[i,j])\n",
    "        \n",
    "print(B)\n",
    "              "
   ]
  },
  {
   "cell_type": "code",
   "execution_count": null,
   "metadata": {},
   "outputs": [],
   "source": []
  }
 ],
 "metadata": {
  "kernelspec": {
   "display_name": "Python 3",
   "language": "python",
   "name": "python3"
  },
  "language_info": {
   "codemirror_mode": {
    "name": "ipython",
    "version": 3
   },
   "file_extension": ".py",
   "mimetype": "text/x-python",
   "name": "python",
   "nbconvert_exporter": "python",
   "pygments_lexer": "ipython3",
   "version": "3.6.7"
  }
 },
 "nbformat": 4,
 "nbformat_minor": 2
}

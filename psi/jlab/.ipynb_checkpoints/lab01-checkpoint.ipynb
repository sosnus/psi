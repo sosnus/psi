{
 "cells": [
  {
   "cell_type": "code",
   "execution_count": null,
   "metadata": {},
   "outputs": [],
   "source": [
    "# 1: przygotowanie ustawień\n",
    "import math\n",
    "import numpy as np\n",
    "\n",
    "\n",
    "### SETTINGS ###\n",
    "np.random.seed(1968003) # Fixing random state for reproducibility\n",
    "cities = 10 # how many cities\n",
    "length = 100 # area where we have cities (map size)\n",
    "roundCnt = 2 # round \n",
    "\n",
    "A = np.random.randint(length, size=(cities, 2)) #generate cities\n",
    "print(A)\n",
    "\n",
    "B = np.zeros((cities, cities)) #generate array for storage length of routes\n",
    "# print(B)"
   ]
  },
  {
   "cell_type": "code",
   "execution_count": null,
   "metadata": {},
   "outputs": [],
   "source": [
    "# 2: CHART\n",
    "import matplotlib.pyplot as plt\n",
    "\n",
    "plt.figure()\n",
    "# Scatter plot on top of lines\n",
    "plt.subplot(111)\n",
    "plt.scatter(A[:,0], A[:,1], s=120, zorder=2)\n",
    "plt.title('CITIES')\n",
    "plt.tight_layout()\n",
    "plt.savefig(\"test.png\")"
   ]
  },
  {
   "cell_type": "code",
   "execution_count": null,
   "metadata": {},
   "outputs": [],
   "source": [
    "# 3: obliczanie odleglosci miedzy punktami:\n",
    "# d^2 = (x2-x1)^2+(y2-y1)^2\n",
    "\n",
    "for i in range(cities):\n",
    "    for j in range(cities):\n",
    "        B[i,j] = round(math.sqrt(math.pow((A[j,0]-A[i,0]),2)+math.pow((A[j,1]-A[i,1]),2)),roundCnt)\n",
    "\n",
    "# show array with routes\n",
    "print(B)\n",
    "\n",
    "# show all routes\n",
    "if False:\n",
    "    for i in range(cities):\n",
    "        for j in range(cities):\n",
    "            print(i,\"=[\", A[i,0],A[i,1],\"]\", j,\"=[\", A[j,0],A[j,1],\"]\", end=\"\\t\")\n",
    "            print(\"len: A\", i, \"- A\", j, \"  = \", B[i,j])\n",
    "\n",
    "              "
   ]
  },
  {
   "cell_type": "code",
   "execution_count": null,
   "metadata": {},
   "outputs": [],
   "source": [
    "print(\"#1 Metoda najbliższego sąsiada:\")\n",
    "allPaths = list()\n",
    "for firstCity in range(cities):\n",
    "    visited = list()\n",
    "    visited.append(firstCity)\n",
    "\n",
    "    wholePath = 0\n",
    "    #search shortest way\n",
    "    while len(visited) < cities:\n",
    "        nearCityPath = 9999\n",
    "        nearCityName = 9999\n",
    "        for neighbour in range(cities):\n",
    "            if neighbour not in visited :\n",
    "                if B[firstCity,neighbour] < nearCityPath :\n",
    "                    nearCityPath = B[firstCity,neighbour]\n",
    "                    nearCityName = neighbour\n",
    "        if nearCityName != 9999:\n",
    "            wholePath = wholePath+nearCityPath\n",
    "            visited.append(nearCityName)\n",
    "    print(\"visited:\",visited,\"wholePath:\",wholePath)\n",
    "    allPaths.append(wholePath)\n",
    "print(\"all paths: \",allPaths)\n",
    "print(\"min(allPaths): \", min(allPaths))\n",
    "print(\"max(allPaths): \", max(allPaths))\n",
    "print(\"avg(allPaths): \", sum(allPaths) / len(allPaths) )\n",
    "print(\"shortest way is \",min(allPaths)/max(allPaths),\"% longest way\")\n",
    "\n",
    "\n",
    "        \n",
    "            \n",
    "            \n",
    "    "
   ]
  },
  {
   "cell_type": "code",
   "execution_count": null,
   "metadata": {},
   "outputs": [],
   "source": []
  }
 ],
 "metadata": {
  "kernelspec": {
   "display_name": "Python 3",
   "language": "python",
   "name": "python3"
  },
  "language_info": {
   "codemirror_mode": {
    "name": "ipython",
    "version": 3
   },
   "file_extension": ".py",
   "mimetype": "text/x-python",
   "name": "python",
   "nbconvert_exporter": "python",
   "pygments_lexer": "ipython3",
   "version": "3.6.7"
  }
 },
 "nbformat": 4,
 "nbformat_minor": 2
}
